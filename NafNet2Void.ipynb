{
 "cells": [
  {
   "cell_type": "code",
   "execution_count": null,
   "id": "0efb3ece-e25a-47d0-aa47-823005f22f4a",
   "metadata": {},
   "outputs": [
    {
     "name": "stdout",
     "output_type": "stream",
     "text": [
      "Using device: cuda\n",
      "\n",
      "Creating datasets...\n",
      "Found 6000 training images in E:\\PHD\\phd_env\\Proyectos\\Denoising_challenge\\Calcium\\Data\\Train\\slices\n",
      "Found 1500 validation pairs\n",
      "\n",
      "Creating NAFNet model...\n"
     ]
    },
    {
     "name": "stderr",
     "output_type": "stream",
     "text": [
      "C:\\Users\\Guill\\miniconda3\\envs\\phd_env_conda\\Lib\\site-packages\\torchmetrics\\utilities\\prints.py:62: FutureWarning: Importing `StructuralSimilarityIndexMeasure` from `torchmetrics` was deprecated and will be removed in 2.0. Import `StructuralSimilarityIndexMeasure` from `torchmetrics.image` instead.\n",
      "  _future_warning(\n"
     ]
    },
    {
     "name": "stdout",
     "output_type": "stream",
     "text": [
      "============================================================\n",
      "MODEL INFORMATION\n",
      "============================================================\n",
      "Architecture: NAFNet\n",
      "Parameters: 1,128,161\n",
      "Configuration:\n",
      "  img_channel: 1\n",
      "  width: 32\n",
      "  middle_blk_num: 1\n",
      "  enc_blk_nums: [1, 1, 1]\n",
      "  dec_blk_nums: [1, 1, 1]\n",
      "============================================================\n",
      "\n",
      "Creating advanced loss function...\n",
      "Starting training for 50 epochs...\n",
      "============================================================\n",
      "\n",
      "Epoch 1/50\n",
      "----------------------------------------\n"
     ]
    },
    {
     "name": "stderr",
     "output_type": "stream",
     "text": [
      "Epoch 1 [Train]: 100%|████████████████████████████████████████████████| 625/625 [11:10<00:00,  1.07s/it, loss=0.034142]\n"
     ]
    },
    {
     "name": "stdout",
     "output_type": "stream",
     "text": [
      "Train Loss: 0.034142\n",
      "Learning Rate: 5.00e-03\n"
     ]
    },
    {
     "name": "stderr",
     "output_type": "stream",
     "text": [
      "Epoch 1 [Val]: 100%|██████████████████████████████████████████| 20/20 [00:32<00:00,  1.61s/it, psnr=32.709, ssim=0.733]\n",
      "E:\\PHD\\phd_env\\Proyectos\\Denoising_challenge\\Calcium\\Models\\N2V_Vanilla\\utils.py:156: UserWarning: This figure includes Axes that are not compatible with tight_layout, so results might be incorrect.\n",
      "  plt.tight_layout()\n"
     ]
    },
    {
     "name": "stdout",
     "output_type": "stream",
     "text": [
      "Val PSNR: 34.6217, Val SSIM: 0.7835\n",
      "New best model saved! PSNR: 34.6217\n",
      "\n",
      "Epoch 2/50\n",
      "----------------------------------------\n"
     ]
    },
    {
     "name": "stderr",
     "output_type": "stream",
     "text": [
      "Epoch 2 [Train]: 100%|████████████████████████████████████████████████| 625/625 [11:10<00:00,  1.07s/it, loss=0.033721]\n"
     ]
    },
    {
     "name": "stdout",
     "output_type": "stream",
     "text": [
      "Train Loss: 0.033721\n",
      "Learning Rate: 5.00e-03\n"
     ]
    },
    {
     "name": "stderr",
     "output_type": "stream",
     "text": [
      "Epoch 2 [Val]: 100%|██████████████████████████████████████████| 20/20 [00:31<00:00,  1.58s/it, psnr=32.703, ssim=0.724]\n"
     ]
    },
    {
     "name": "stdout",
     "output_type": "stream",
     "text": [
      "Val PSNR: 34.6703, Val SSIM: 0.7793\n",
      "New best model saved! PSNR: 34.6703\n",
      "\n",
      "Epoch 3/50\n",
      "----------------------------------------\n"
     ]
    },
    {
     "name": "stderr",
     "output_type": "stream",
     "text": [
      "Epoch 3 [Train]: 100%|████████████████████████████████████████████████| 625/625 [11:09<00:00,  1.07s/it, loss=0.033807]\n"
     ]
    },
    {
     "name": "stdout",
     "output_type": "stream",
     "text": [
      "Train Loss: 0.033807\n",
      "Learning Rate: 5.00e-03\n"
     ]
    },
    {
     "name": "stderr",
     "output_type": "stream",
     "text": [
      "Epoch 3 [Val]: 100%|██████████████████████████████████████████| 20/20 [00:31<00:00,  1.58s/it, psnr=32.864, ssim=0.737]\n"
     ]
    },
    {
     "name": "stdout",
     "output_type": "stream",
     "text": [
      "Val PSNR: 34.8256, Val SSIM: 0.7891\n",
      "New best model saved! PSNR: 34.8256\n",
      "\n",
      "Epoch 4/50\n",
      "----------------------------------------\n"
     ]
    },
    {
     "name": "stderr",
     "output_type": "stream",
     "text": [
      "Epoch 4 [Train]: 100%|█████████████████████████████████████████████| 625/625 [11:08<00:00,  1.07s/it, loss=4371.637140]\n"
     ]
    },
    {
     "name": "stdout",
     "output_type": "stream",
     "text": [
      "Train Loss: 4371.637140\n",
      "Learning Rate: 5.00e-03\n"
     ]
    },
    {
     "name": "stderr",
     "output_type": "stream",
     "text": [
      "Epoch 4 [Val]: 100%|██████████████████████████████████████████| 20/20 [00:31<00:00,  1.58s/it, psnr=32.602, ssim=0.746]\n"
     ]
    },
    {
     "name": "stdout",
     "output_type": "stream",
     "text": [
      "Val PSNR: 34.4736, Val SSIM: 0.7937\n",
      "\n",
      "Epoch 5/50\n",
      "----------------------------------------\n"
     ]
    },
    {
     "name": "stderr",
     "output_type": "stream",
     "text": [
      "Epoch 5 [Train]: 100%|████████████████████████████████████████████████| 625/625 [11:11<00:00,  1.07s/it, loss=0.033525]\n"
     ]
    },
    {
     "name": "stdout",
     "output_type": "stream",
     "text": [
      "Train Loss: 0.033525\n",
      "Learning Rate: 5.00e-03\n"
     ]
    },
    {
     "name": "stderr",
     "output_type": "stream",
     "text": [
      "Epoch 5 [Val]: 100%|██████████████████████████████████████████| 20/20 [00:32<00:00,  1.60s/it, psnr=33.531, ssim=0.757]\n"
     ]
    },
    {
     "name": "stdout",
     "output_type": "stream",
     "text": [
      "Val PSNR: 35.5294, Val SSIM: 0.8083\n",
      "New best model saved! PSNR: 35.5294\n",
      "\n",
      "Epoch 6/50\n",
      "----------------------------------------\n"
     ]
    },
    {
     "name": "stderr",
     "output_type": "stream",
     "text": [
      "Epoch 6 [Train]: 100%|████████████████████████████████████████████████| 625/625 [11:09<00:00,  1.07s/it, loss=0.033695]\n"
     ]
    },
    {
     "name": "stdout",
     "output_type": "stream",
     "text": [
      "Train Loss: 0.033695\n",
      "Learning Rate: 5.00e-03\n"
     ]
    },
    {
     "name": "stderr",
     "output_type": "stream",
     "text": [
      "Epoch 6 [Val]: 100%|██████████████████████████████████████████| 20/20 [00:31<00:00,  1.58s/it, psnr=33.259, ssim=0.755]\n"
     ]
    },
    {
     "name": "stdout",
     "output_type": "stream",
     "text": [
      "Val PSNR: 35.2371, Val SSIM: 0.8054\n",
      "\n",
      "Epoch 7/50\n",
      "----------------------------------------\n"
     ]
    },
    {
     "name": "stderr",
     "output_type": "stream",
     "text": [
      "Epoch 7 [Train]: 100%|████████████████████████████████████████████████| 625/625 [11:11<00:00,  1.07s/it, loss=0.033535]\n"
     ]
    },
    {
     "name": "stdout",
     "output_type": "stream",
     "text": [
      "Train Loss: 0.033535\n",
      "Learning Rate: 5.00e-03\n"
     ]
    },
    {
     "name": "stderr",
     "output_type": "stream",
     "text": [
      "Epoch 7 [Val]: 100%|██████████████████████████████████████████| 20/20 [00:31<00:00,  1.58s/it, psnr=33.434, ssim=0.758]\n"
     ]
    },
    {
     "name": "stdout",
     "output_type": "stream",
     "text": [
      "Val PSNR: 35.4500, Val SSIM: 0.8094\n",
      "\n",
      "Epoch 8/50\n",
      "----------------------------------------\n"
     ]
    },
    {
     "name": "stderr",
     "output_type": "stream",
     "text": [
      "Epoch 8 [Train]: 100%|████████████████████████████████████████████████| 625/625 [11:09<00:00,  1.07s/it, loss=0.033548]\n"
     ]
    },
    {
     "name": "stdout",
     "output_type": "stream",
     "text": [
      "Train Loss: 0.033548\n",
      "Learning Rate: 5.00e-03\n"
     ]
    },
    {
     "name": "stderr",
     "output_type": "stream",
     "text": [
      "Epoch 8 [Val]: 100%|██████████████████████████████████████████| 20/20 [00:31<00:00,  1.58s/it, psnr=32.955, ssim=0.750]\n"
     ]
    },
    {
     "name": "stdout",
     "output_type": "stream",
     "text": [
      "Val PSNR: 34.8967, Val SSIM: 0.8002\n",
      "\n",
      "Epoch 9/50\n",
      "----------------------------------------\n"
     ]
    },
    {
     "name": "stderr",
     "output_type": "stream",
     "text": [
      "Epoch 9 [Train]: 100%|████████████████████████████████████████████████| 625/625 [11:09<00:00,  1.07s/it, loss=0.033764]\n"
     ]
    },
    {
     "name": "stdout",
     "output_type": "stream",
     "text": [
      "Train Loss: 0.033764\n",
      "Learning Rate: 5.00e-03\n"
     ]
    },
    {
     "name": "stderr",
     "output_type": "stream",
     "text": [
      "Epoch 9 [Val]: 100%|██████████████████████████████████████████| 20/20 [00:31<00:00,  1.58s/it, psnr=33.327, ssim=0.759]\n"
     ]
    },
    {
     "name": "stdout",
     "output_type": "stream",
     "text": [
      "Val PSNR: 35.3366, Val SSIM: 0.8094\n",
      "\n",
      "Epoch 10/50\n",
      "----------------------------------------\n"
     ]
    },
    {
     "name": "stderr",
     "output_type": "stream",
     "text": [
      "Epoch 10 [Train]: 100%|███████████████████████████████████████████████| 625/625 [11:09<00:00,  1.07s/it, loss=0.033524]\n"
     ]
    },
    {
     "name": "stdout",
     "output_type": "stream",
     "text": [
      "Train Loss: 0.033524\n",
      "Learning Rate: 5.00e-03\n"
     ]
    },
    {
     "name": "stderr",
     "output_type": "stream",
     "text": [
      "Epoch 10 [Val]: 100%|█████████████████████████████████████████| 20/20 [00:31<00:00,  1.57s/it, psnr=33.049, ssim=0.754]\n"
     ]
    },
    {
     "name": "stdout",
     "output_type": "stream",
     "text": [
      "Val PSNR: 34.9958, Val SSIM: 0.8031\n",
      "\n",
      "Epoch 11/50\n",
      "----------------------------------------\n"
     ]
    },
    {
     "name": "stderr",
     "output_type": "stream",
     "text": [
      "Epoch 11 [Train]: 100%|███████████████████████████████████████████████| 625/625 [11:08<00:00,  1.07s/it, loss=0.033566]\n"
     ]
    },
    {
     "name": "stdout",
     "output_type": "stream",
     "text": [
      "Train Loss: 0.033566\n",
      "Learning Rate: 5.00e-03\n"
     ]
    },
    {
     "name": "stderr",
     "output_type": "stream",
     "text": [
      "Epoch 11 [Val]: 100%|█████████████████████████████████████████| 20/20 [00:31<00:00,  1.58s/it, psnr=33.226, ssim=0.752]\n"
     ]
    },
    {
     "name": "stdout",
     "output_type": "stream",
     "text": [
      "Val PSNR: 35.2102, Val SSIM: 0.8033\n",
      "\n",
      "Epoch 12/50\n",
      "----------------------------------------\n"
     ]
    },
    {
     "name": "stderr",
     "output_type": "stream",
     "text": [
      "Epoch 12 [Train]: 100%|███████████████████████████████████████████████| 625/625 [11:09<00:00,  1.07s/it, loss=0.033917]\n"
     ]
    },
    {
     "name": "stdout",
     "output_type": "stream",
     "text": [
      "Train Loss: 0.033917\n",
      "Learning Rate: 5.00e-03\n"
     ]
    },
    {
     "name": "stderr",
     "output_type": "stream",
     "text": [
      "Epoch 12 [Val]: 100%|█████████████████████████████████████████| 20/20 [00:31<00:00,  1.59s/it, psnr=33.077, ssim=0.751]\n"
     ]
    },
    {
     "name": "stdout",
     "output_type": "stream",
     "text": [
      "Val PSNR: 35.0478, Val SSIM: 0.8012\n",
      "\n",
      "Epoch 13/50\n",
      "----------------------------------------\n"
     ]
    },
    {
     "name": "stderr",
     "output_type": "stream",
     "text": [
      "Epoch 13 [Train]: 100%|███████████████████████████████████████████████| 625/625 [11:09<00:00,  1.07s/it, loss=0.033796]\n"
     ]
    },
    {
     "name": "stdout",
     "output_type": "stream",
     "text": [
      "Train Loss: 0.033796\n",
      "Learning Rate: 5.00e-03\n"
     ]
    },
    {
     "name": "stderr",
     "output_type": "stream",
     "text": [
      "Epoch 13 [Val]: 100%|█████████████████████████████████████████| 20/20 [00:31<00:00,  1.58s/it, psnr=32.324, ssim=0.741]\n"
     ]
    },
    {
     "name": "stdout",
     "output_type": "stream",
     "text": [
      "Val PSNR: 34.1937, Val SSIM: 0.7886\n",
      "\n",
      "Epoch 14/50\n",
      "----------------------------------------\n"
     ]
    },
    {
     "name": "stderr",
     "output_type": "stream",
     "text": [
      "Epoch 14 [Train]: 100%|███████████████████████████████████████████████| 625/625 [11:09<00:00,  1.07s/it, loss=0.033605]\n"
     ]
    },
    {
     "name": "stdout",
     "output_type": "stream",
     "text": [
      "Train Loss: 0.033605\n",
      "Learning Rate: 5.00e-03\n"
     ]
    },
    {
     "name": "stderr",
     "output_type": "stream",
     "text": [
      "Epoch 14 [Val]: 100%|█████████████████████████████████████████| 20/20 [00:31<00:00,  1.58s/it, psnr=33.456, ssim=0.760]\n"
     ]
    },
    {
     "name": "stdout",
     "output_type": "stream",
     "text": [
      "Val PSNR: 35.4633, Val SSIM: 0.8113\n",
      "\n",
      "Epoch 15/50\n",
      "----------------------------------------\n"
     ]
    },
    {
     "name": "stderr",
     "output_type": "stream",
     "text": [
      "Epoch 15 [Train]: 100%|███████████████████████████████████████████████| 625/625 [11:08<00:00,  1.07s/it, loss=0.033931]\n"
     ]
    },
    {
     "name": "stdout",
     "output_type": "stream",
     "text": [
      "Train Loss: 0.033931\n",
      "Learning Rate: 2.50e-03\n"
     ]
    },
    {
     "name": "stderr",
     "output_type": "stream",
     "text": [
      "Epoch 15 [Val]: 100%|█████████████████████████████████████████| 20/20 [00:31<00:00,  1.58s/it, psnr=32.572, ssim=0.737]\n"
     ]
    },
    {
     "name": "stdout",
     "output_type": "stream",
     "text": [
      "Val PSNR: 34.4912, Val SSIM: 0.7881\n",
      "\n",
      "Epoch 16/50\n",
      "----------------------------------------\n"
     ]
    },
    {
     "name": "stderr",
     "output_type": "stream",
     "text": [
      "Epoch 16 [Train]: 100%|███████████████████████████████████████████████| 625/625 [11:07<00:00,  1.07s/it, loss=0.033543]\n"
     ]
    },
    {
     "name": "stdout",
     "output_type": "stream",
     "text": [
      "Train Loss: 0.033543\n",
      "Learning Rate: 2.50e-03\n"
     ]
    },
    {
     "name": "stderr",
     "output_type": "stream",
     "text": [
      "Epoch 16 [Val]: 100%|█████████████████████████████████████████| 20/20 [00:31<00:00,  1.58s/it, psnr=33.211, ssim=0.750]\n"
     ]
    },
    {
     "name": "stdout",
     "output_type": "stream",
     "text": [
      "Val PSNR: 35.1993, Val SSIM: 0.8016\n",
      "\n",
      "Epoch 17/50\n",
      "----------------------------------------\n"
     ]
    },
    {
     "name": "stderr",
     "output_type": "stream",
     "text": [
      "Epoch 17 [Train]: 100%|███████████████████████████████████████████████| 625/625 [11:06<00:00,  1.07s/it, loss=0.033550]\n"
     ]
    },
    {
     "name": "stdout",
     "output_type": "stream",
     "text": [
      "Train Loss: 0.033550\n",
      "Learning Rate: 2.50e-03\n"
     ]
    },
    {
     "name": "stderr",
     "output_type": "stream",
     "text": [
      "Epoch 17 [Val]: 100%|█████████████████████████████████████████| 20/20 [00:31<00:00,  1.58s/it, psnr=32.973, ssim=0.750]\n"
     ]
    },
    {
     "name": "stdout",
     "output_type": "stream",
     "text": [
      "Val PSNR: 34.9455, Val SSIM: 0.8010\n",
      "\n",
      "Epoch 18/50\n",
      "----------------------------------------\n"
     ]
    },
    {
     "name": "stderr",
     "output_type": "stream",
     "text": [
      "Epoch 18 [Train]: 100%|███████████████████████████████████████████████| 625/625 [11:07<00:00,  1.07s/it, loss=0.033662]\n"
     ]
    },
    {
     "name": "stdout",
     "output_type": "stream",
     "text": [
      "Train Loss: 0.033662\n",
      "Learning Rate: 2.50e-03\n"
     ]
    },
    {
     "name": "stderr",
     "output_type": "stream",
     "text": [
      "Epoch 18 [Val]: 100%|█████████████████████████████████████████| 20/20 [00:31<00:00,  1.59s/it, psnr=32.899, ssim=0.742]\n"
     ]
    },
    {
     "name": "stdout",
     "output_type": "stream",
     "text": [
      "Val PSNR: 34.8334, Val SSIM: 0.7924\n",
      "\n",
      "Epoch 19/50\n",
      "----------------------------------------\n"
     ]
    },
    {
     "name": "stderr",
     "output_type": "stream",
     "text": [
      "Epoch 19 [Train]: 100%|███████████████████████████████████████████████| 625/625 [11:06<00:00,  1.07s/it, loss=0.033770]\n"
     ]
    },
    {
     "name": "stdout",
     "output_type": "stream",
     "text": [
      "Train Loss: 0.033770\n",
      "Learning Rate: 2.50e-03\n"
     ]
    },
    {
     "name": "stderr",
     "output_type": "stream",
     "text": [
      "Epoch 19 [Val]: 100%|█████████████████████████████████████████| 20/20 [00:31<00:00,  1.59s/it, psnr=33.098, ssim=0.746]\n"
     ]
    },
    {
     "name": "stdout",
     "output_type": "stream",
     "text": [
      "Val PSNR: 35.0699, Val SSIM: 0.7973\n",
      "\n",
      "Epoch 20/50\n",
      "----------------------------------------\n"
     ]
    },
    {
     "name": "stderr",
     "output_type": "stream",
     "text": [
      "Epoch 20 [Train]: 100%|███████████████████████████████████████████████| 625/625 [11:07<00:00,  1.07s/it, loss=0.033684]\n"
     ]
    },
    {
     "name": "stdout",
     "output_type": "stream",
     "text": [
      "Train Loss: 0.033684\n",
      "Learning Rate: 2.50e-03\n"
     ]
    },
    {
     "name": "stderr",
     "output_type": "stream",
     "text": [
      "Epoch 20 [Val]: 100%|█████████████████████████████████████████| 20/20 [00:31<00:00,  1.58s/it, psnr=33.494, ssim=0.759]\n"
     ]
    },
    {
     "name": "stdout",
     "output_type": "stream",
     "text": [
      "Val PSNR: 35.4979, Val SSIM: 0.8099\n",
      "\n",
      "Epoch 21/50\n",
      "----------------------------------------\n"
     ]
    },
    {
     "name": "stderr",
     "output_type": "stream",
     "text": [
      "Epoch 21 [Train]: 100%|███████████████████████████████████████████████| 625/625 [11:09<00:00,  1.07s/it, loss=0.033735]\n"
     ]
    },
    {
     "name": "stdout",
     "output_type": "stream",
     "text": [
      "Train Loss: 0.033735\n",
      "Learning Rate: 2.50e-03\n"
     ]
    },
    {
     "name": "stderr",
     "output_type": "stream",
     "text": [
      "Epoch 21 [Val]: 100%|█████████████████████████████████████████| 20/20 [00:31<00:00,  1.58s/it, psnr=33.245, ssim=0.755]\n"
     ]
    },
    {
     "name": "stdout",
     "output_type": "stream",
     "text": [
      "Val PSNR: 35.2581, Val SSIM: 0.8063\n",
      "\n",
      "Epoch 22/50\n",
      "----------------------------------------\n"
     ]
    },
    {
     "name": "stderr",
     "output_type": "stream",
     "text": [
      "Epoch 22 [Train]: 100%|███████████████████████████████████████████████| 625/625 [11:09<00:00,  1.07s/it, loss=0.033539]\n"
     ]
    },
    {
     "name": "stdout",
     "output_type": "stream",
     "text": [
      "Train Loss: 0.033539\n",
      "Learning Rate: 2.50e-03\n"
     ]
    },
    {
     "name": "stderr",
     "output_type": "stream",
     "text": [
      "Epoch 22 [Val]: 100%|█████████████████████████████████████████| 20/20 [00:31<00:00,  1.57s/it, psnr=33.076, ssim=0.746]\n"
     ]
    },
    {
     "name": "stdout",
     "output_type": "stream",
     "text": [
      "Val PSNR: 35.0720, Val SSIM: 0.7984\n",
      "\n",
      "Epoch 23/50\n",
      "----------------------------------------\n"
     ]
    },
    {
     "name": "stderr",
     "output_type": "stream",
     "text": [
      "Epoch 23 [Train]: 100%|███████████████████████████████████████████████| 625/625 [11:07<00:00,  1.07s/it, loss=0.033591]\n"
     ]
    },
    {
     "name": "stdout",
     "output_type": "stream",
     "text": [
      "Train Loss: 0.033591\n",
      "Learning Rate: 2.50e-03\n"
     ]
    },
    {
     "name": "stderr",
     "output_type": "stream",
     "text": [
      "Epoch 23 [Val]: 100%|█████████████████████████████████████████| 20/20 [00:31<00:00,  1.57s/it, psnr=33.306, ssim=0.748]\n"
     ]
    },
    {
     "name": "stdout",
     "output_type": "stream",
     "text": [
      "Val PSNR: 35.3077, Val SSIM: 0.8007\n",
      "\n",
      "Epoch 24/50\n",
      "----------------------------------------\n"
     ]
    },
    {
     "name": "stderr",
     "output_type": "stream",
     "text": [
      "Epoch 24 [Train]: 100%|███████████████████████████████████████████████| 625/625 [11:07<00:00,  1.07s/it, loss=0.033865]\n"
     ]
    },
    {
     "name": "stdout",
     "output_type": "stream",
     "text": [
      "Train Loss: 0.033865\n",
      "Learning Rate: 2.50e-03\n"
     ]
    },
    {
     "name": "stderr",
     "output_type": "stream",
     "text": [
      "Epoch 24 [Val]: 100%|█████████████████████████████████████████| 20/20 [00:31<00:00,  1.57s/it, psnr=33.436, ssim=0.753]\n"
     ]
    },
    {
     "name": "stdout",
     "output_type": "stream",
     "text": [
      "Val PSNR: 35.4432, Val SSIM: 0.8054\n",
      "\n",
      "Epoch 25/50\n",
      "----------------------------------------\n"
     ]
    },
    {
     "name": "stderr",
     "output_type": "stream",
     "text": [
      "Epoch 25 [Train]: 100%|███████████████████████████████████████████████| 625/625 [11:07<00:00,  1.07s/it, loss=0.033729]\n"
     ]
    },
    {
     "name": "stdout",
     "output_type": "stream",
     "text": [
      "Train Loss: 0.033729\n",
      "Learning Rate: 2.50e-03\n"
     ]
    },
    {
     "name": "stderr",
     "output_type": "stream",
     "text": [
      "Epoch 25 [Val]: 100%|█████████████████████████████████████████| 20/20 [00:31<00:00,  1.57s/it, psnr=33.293, ssim=0.752]\n"
     ]
    },
    {
     "name": "stdout",
     "output_type": "stream",
     "text": [
      "Val PSNR: 35.3146, Val SSIM: 0.8045\n",
      "\n",
      "Epoch 26/50\n",
      "----------------------------------------\n"
     ]
    },
    {
     "name": "stderr",
     "output_type": "stream",
     "text": [
      "Epoch 26 [Train]: 100%|███████████████████████████████████████████████| 625/625 [11:06<00:00,  1.07s/it, loss=0.033857]\n"
     ]
    },
    {
     "name": "stdout",
     "output_type": "stream",
     "text": [
      "Train Loss: 0.033857\n",
      "Learning Rate: 2.50e-03\n"
     ]
    },
    {
     "name": "stderr",
     "output_type": "stream",
     "text": [
      "Epoch 26 [Val]: 100%|█████████████████████████████████████████| 20/20 [00:31<00:00,  1.57s/it, psnr=33.232, ssim=0.754]\n"
     ]
    },
    {
     "name": "stdout",
     "output_type": "stream",
     "text": [
      "Val PSNR: 35.2281, Val SSIM: 0.8049\n",
      "\n",
      "Epoch 27/50\n",
      "----------------------------------------\n"
     ]
    },
    {
     "name": "stderr",
     "output_type": "stream",
     "text": [
      "Epoch 27 [Train]: 100%|███████████████████████████████████████████████| 625/625 [11:07<00:00,  1.07s/it, loss=0.033702]\n"
     ]
    },
    {
     "name": "stdout",
     "output_type": "stream",
     "text": [
      "Train Loss: 0.033702\n",
      "Learning Rate: 2.50e-03\n"
     ]
    },
    {
     "name": "stderr",
     "output_type": "stream",
     "text": [
      "Epoch 27 [Val]: 100%|█████████████████████████████████████████| 20/20 [00:31<00:00,  1.57s/it, psnr=33.156, ssim=0.749]\n"
     ]
    },
    {
     "name": "stdout",
     "output_type": "stream",
     "text": [
      "Val PSNR: 35.1577, Val SSIM: 0.8010\n",
      "\n",
      "Epoch 28/50\n",
      "----------------------------------------\n"
     ]
    },
    {
     "name": "stderr",
     "output_type": "stream",
     "text": [
      "Epoch 28 [Train]: 100%|███████████████████████████████████████████████| 625/625 [11:07<00:00,  1.07s/it, loss=0.033674]\n"
     ]
    },
    {
     "name": "stdout",
     "output_type": "stream",
     "text": [
      "Train Loss: 0.033674\n",
      "Learning Rate: 2.50e-03\n"
     ]
    },
    {
     "name": "stderr",
     "output_type": "stream",
     "text": [
      "Epoch 28 [Val]: 100%|█████████████████████████████████████████| 20/20 [00:31<00:00,  1.57s/it, psnr=32.927, ssim=0.740]\n"
     ]
    },
    {
     "name": "stdout",
     "output_type": "stream",
     "text": [
      "Val PSNR: 34.8885, Val SSIM: 0.7917\n",
      "\n",
      "Epoch 29/50\n",
      "----------------------------------------\n"
     ]
    },
    {
     "name": "stderr",
     "output_type": "stream",
     "text": [
      "Epoch 29 [Train]: 100%|███████████████████████████████████████████████| 625/625 [11:09<00:00,  1.07s/it, loss=0.033858]\n"
     ]
    },
    {
     "name": "stdout",
     "output_type": "stream",
     "text": [
      "Train Loss: 0.033858\n",
      "Learning Rate: 2.50e-03\n"
     ]
    },
    {
     "name": "stderr",
     "output_type": "stream",
     "text": [
      "Epoch 29 [Val]: 100%|█████████████████████████████████████████| 20/20 [00:31<00:00,  1.57s/it, psnr=33.017, ssim=0.743]\n"
     ]
    },
    {
     "name": "stdout",
     "output_type": "stream",
     "text": [
      "Val PSNR: 35.0044, Val SSIM: 0.7953\n",
      "\n",
      "Epoch 30/50\n",
      "----------------------------------------\n"
     ]
    },
    {
     "name": "stderr",
     "output_type": "stream",
     "text": [
      "Epoch 30 [Train]: 100%|███████████████████████████████████████████████| 625/625 [11:09<00:00,  1.07s/it, loss=0.033920]\n"
     ]
    },
    {
     "name": "stdout",
     "output_type": "stream",
     "text": [
      "Train Loss: 0.033920\n",
      "Learning Rate: 1.25e-03\n"
     ]
    },
    {
     "name": "stderr",
     "output_type": "stream",
     "text": [
      "Epoch 30 [Val]: 100%|█████████████████████████████████████████| 20/20 [00:31<00:00,  1.58s/it, psnr=33.007, ssim=0.746]\n"
     ]
    },
    {
     "name": "stdout",
     "output_type": "stream",
     "text": [
      "Val PSNR: 35.0004, Val SSIM: 0.7982\n",
      "\n",
      "Epoch 31/50\n",
      "----------------------------------------\n"
     ]
    },
    {
     "name": "stderr",
     "output_type": "stream",
     "text": [
      "Epoch 31 [Train]: 100%|███████████████████████████████████████████████| 625/625 [11:09<00:00,  1.07s/it, loss=0.033885]\n"
     ]
    },
    {
     "name": "stdout",
     "output_type": "stream",
     "text": [
      "Train Loss: 0.033885\n",
      "Learning Rate: 1.25e-03\n"
     ]
    },
    {
     "name": "stderr",
     "output_type": "stream",
     "text": [
      "Epoch 31 [Val]: 100%|█████████████████████████████████████████| 20/20 [00:31<00:00,  1.59s/it, psnr=33.007, ssim=0.750]\n"
     ]
    },
    {
     "name": "stdout",
     "output_type": "stream",
     "text": [
      "Val PSNR: 34.9752, Val SSIM: 0.8004\n",
      "\n",
      "Epoch 32/50\n",
      "----------------------------------------\n"
     ]
    },
    {
     "name": "stderr",
     "output_type": "stream",
     "text": [
      "Exception ignored in: <function _MultiProcessingDataLoaderIter.__del__ at 0x0000028126484360>  1.09s/it, loss=0.033948]\n",
      "Traceback (most recent call last):\n",
      "  File \"C:\\Users\\Guill\\miniconda3\\envs\\phd_env_conda\\Lib\\site-packages\\torch\\utils\\data\\dataloader.py\", line 1650, in __del__\n",
      "    self._shutdown_workers()\n",
      "  File \"C:\\Users\\Guill\\miniconda3\\envs\\phd_env_conda\\Lib\\site-packages\\torch\\utils\\data\\dataloader.py\", line 1614, in _shutdown_workers\n",
      "    w.join(timeout=_utils.MP_STATUS_CHECK_INTERVAL)\n",
      "  File \"C:\\Users\\Guill\\miniconda3\\envs\\phd_env_conda\\Lib\\multiprocessing\\process.py\", line 149, in join\n",
      "    res = self._popen.wait(timeout)\n",
      "          ^^^^^^^^^^^^^^^^^^^^^^^^^\n",
      "  File \"C:\\Users\\Guill\\miniconda3\\envs\\phd_env_conda\\Lib\\multiprocessing\\popen_spawn_win32.py\", line 112, in wait\n",
      "    res = _winapi.WaitForSingleObject(int(self._handle), msecs)\n",
      "          ^^^^^^^^^^^^^^^^^^^^^^^^^^^^^^^^^^^^^^^^^^^^^^^^^^^^^\n",
      "KeyboardInterrupt: \n",
      "Epoch 32 [Train]:  74%|██████████████████████████████████▋            | 461/625 [08:19<02:57,  1.08s/it, loss=0.033948]\n",
      "\n",
      "KeyboardInterrupt\n",
      "\n",
      "\n",
      "KeyboardInterrupt\n",
      "\n"
     ]
    }
   ],
   "source": [
    "\"\"\"\n",
    "main.py - Main script for training Noise2Void with NAFNet\n",
    "\"\"\"\n",
    "\n",
    "import os\n",
    "import torch\n",
    "from torch.utils.data import DataLoader\n",
    "\n",
    "from N2V_Vanilla.config import create_config, TrainingConfig\n",
    "from N2V_Vanilla.models import create_nafnet\n",
    "from N2V_Vanilla.losses import create_loss_function\n",
    "from N2V_Vanilla.dataset import NoisyPatchDataset, ValidationDataset\n",
    "from N2V_Vanilla.trainer import create_trainer\n",
    "from N2V_Vanilla.utils import setup_reproducibility, print_model_info, create_directories\n",
    "\n",
    "# ---------------------------\n",
    "# === Main Training Function\n",
    "# ---------------------------\n",
    "def main(config: TrainingConfig):\n",
    "    # Validate configuration\n",
    "    config.validate_config()\n",
    "    \n",
    "    # Setup reproducibility\n",
    "    setup_reproducibility(config.seed)\n",
    "    \n",
    "    # Get device\n",
    "    device = torch.device(config.get_device())\n",
    "    print(f\"Using device: {device}\")\n",
    "    \n",
    "    # Create output directories\n",
    "    create_directories(config.output_dir)\n",
    "    \n",
    "    # Create datasets\n",
    "    print(\"\\nCreating datasets...\")\n",
    "    train_ds = NoisyPatchDataset(\n",
    "        root_dir=config.train_dir,\n",
    "        patch_size=config.patch_size,\n",
    "        dataset_size=config.dataset_size\n",
    "    )\n",
    "    \n",
    "    val_ds = ValidationDataset(\n",
    "        gt_dir=config.val_gt_dir,\n",
    "        noisy_dir=config.val_noisy_dir,\n",
    "        normalize=False  # Normalization handled in utils\n",
    "    ) if config.val_gt_dir and config.val_noisy_dir else None\n",
    "    \n",
    "    # Create dataloaders\n",
    "    train_loader = DataLoader(\n",
    "        train_ds,\n",
    "        batch_size=config.batch_size,\n",
    "        shuffle=True,\n",
    "        num_workers=config.num_workers,\n",
    "        pin_memory=config.pin_memory\n",
    "    )\n",
    "    \n",
    "    val_loader = DataLoader(\n",
    "        val_ds,\n",
    "        batch_size=1,  # Process one GT pair at a time\n",
    "        shuffle=False,\n",
    "        num_workers=0,\n",
    "        pin_memory=config.pin_memory\n",
    "    ) if val_ds else None\n",
    "    \n",
    "    # Create model\n",
    "    print(\"\\nCreating NAFNet model...\")\n",
    "    model = create_nafnet(config.nafnet_config).to(device)\n",
    "    print_model_info(model, config.nafnet_config)\n",
    "    \n",
    "    # Create loss function\n",
    "    print(f\"\\nCreating {config.loss_type} loss function...\")\n",
    "    criterion = create_loss_function(\n",
    "        loss_type=config.loss_type,\n",
    "        device=device,\n",
    "        **config.loss_weights\n",
    "    )\n",
    "    \n",
    "    # Create optimizer\n",
    "    optimizer_params = {\n",
    "        'lr': config.learning_rate,\n",
    "        'weight_decay': config.weight_decay,\n",
    "        'betas': config.betas\n",
    "    }\n",
    "    if config.optimizer_type.lower() == \"adam\":\n",
    "        optimizer = torch.optim.Adam(model.parameters(), **optimizer_params)\n",
    "    elif config.optimizer_type.lower() == \"adamw\":\n",
    "        optimizer = torch.optim.AdamW(model.parameters(), **optimizer_params)\n",
    "    else:\n",
    "        raise ValueError(f\"Unknown optimizer type: {config.optimizer_type}\")\n",
    "    \n",
    "    # Create scheduler\n",
    "    scheduler = None\n",
    "    if config.scheduler_type.lower() == \"step\":\n",
    "        scheduler = torch.optim.lr_scheduler.StepLR(\n",
    "            optimizer,\n",
    "            step_size=config.step_size,\n",
    "            gamma=config.gamma\n",
    "        )\n",
    "    elif config.scheduler_type.lower() == \"cosine\":\n",
    "        scheduler = torch.optim.lr_scheduler.CosineAnnealingLR(\n",
    "            optimizer,\n",
    "            T_max=int(config.epochs/5)\n",
    "        )\n",
    "    elif config.scheduler_type.lower() == \"plateau\":\n",
    "        scheduler = torch.optim.lr_scheduler.ReduceLROnPlateau(\n",
    "            optimizer,\n",
    "            mode='max',\n",
    "            factor=0.5,\n",
    "            patience=5,\n",
    "            verbose=True\n",
    "        )\n",
    "    else:\n",
    "        print(f\"Warning: Unknown scheduler type '{config.scheduler_type}', no scheduler will be used.\")\n",
    "    \n",
    "    # Create trainer\n",
    "    trainer_config = config.to_dict()\n",
    "    trainer = create_trainer(\n",
    "        model=model,\n",
    "        criterion=criterion,\n",
    "        optimizer=optimizer,\n",
    "        scheduler=scheduler,\n",
    "        device=device,\n",
    "        config=trainer_config\n",
    "    )\n",
    "    \n",
    "    # Optional: Resume from checkpoint\n",
    "    # resume_path = \"./training_output/checkpoints/checkpoint_epoch_XX.pth\"\n",
    "    # if os.path.exists(resume_path):\n",
    "    #     trainer.resume_training(resume_path)\n",
    "    \n",
    "    # Start training\n",
    "    trainer.train(\n",
    "        train_loader=train_loader,\n",
    "        val_loader=val_loader,\n",
    "        epochs=config.epochs\n",
    "    )\n",
    "\n",
    "if __name__ == \"__main__\":\n",
    "    # Create configuration\n",
    "    # Options: \"default\", \"fast\", \"high_quality\", \"cpu\"\n",
    "    config = create_config(\"default\")\n",
    "    \n",
    "    # Optional: Update paths if needed\n",
    "    config.update_paths(\n",
    "        train_dir=r\"E:\\PHD\\phd_env\\Proyectos\\Denoising_challenge\\Calcium\\Data\\Train\\slices\",\n",
    "        val_gt_dir=r\"E:\\PHD\\phd_env\\Proyectos\\Denoising_challenge\\Calcium\\Data\\Val\\GT\\slices\",\n",
    "        val_noisy_dir=r\"E:\\PHD\\phd_env\\Proyectos\\Denoising_challenge\\Calcium\\Data\\Val\\noisy\\slices\",\n",
    "        output_dir=\"./training_output\"\n",
    "    )\n",
    "    \n",
    "    # Optional: Customize further\n",
    "    config.epochs = 50\n",
    "    config.batch_size = 32\n",
    "    config.learning_rate = 5e-3\n",
    "    config.model_size = 'medium'\n",
    "    config.update_model_config(model_size='medium')\n",
    "    config.loss_type = \"advanced\"\n",
    "    config.loss_weights['ssim_weight'] = 0.3\n",
    "    config.num_workers = 8\n",
    "    config.scheduler_type.lower() == \"step\"\n",
    "    \n",
    "    main(config)"
   ]
  },
  {
   "cell_type": "code",
   "execution_count": null,
   "id": "ca6314e7-1748-43e3-a6e3-4687d12f407d",
   "metadata": {},
   "outputs": [],
   "source": []
  },
  {
   "cell_type": "code",
   "execution_count": null,
   "id": "5069e79f-c977-4fb9-9ed8-f47bceeb39be",
   "metadata": {},
   "outputs": [],
   "source": []
  }
 ],
 "metadata": {
  "kernelspec": {
   "display_name": "Python 3 (ipykernel)",
   "language": "python",
   "name": "python3"
  },
  "language_info": {
   "codemirror_mode": {
    "name": "ipython",
    "version": 3
   },
   "file_extension": ".py",
   "mimetype": "text/x-python",
   "name": "python",
   "nbconvert_exporter": "python",
   "pygments_lexer": "ipython3",
   "version": "3.12.11"
  }
 },
 "nbformat": 4,
 "nbformat_minor": 5
}
